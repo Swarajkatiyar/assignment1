{
 "cells": [
  {
   "cell_type": "code",
   "execution_count": 15,
   "id": "84401a61",
   "metadata": {},
   "outputs": [
    {
     "name": "stdout",
     "output_type": "stream",
     "text": [
      "you will be a part of A0 \n"
     ]
    }
   ],
   "source": [
    "marks=99\n",
    "if marks >=80:\n",
    "    print('you will be a part of A0 ')\n",
    "elif marks>=60 and marks<80:\n",
    "    print('you will be a part of A1')\n",
    "elif marks<60 and marks>40:\n",
    "    print('you will be a part of A2')\n",
    "else:\n",
    "    print('you will be a part of A3')"
   ]
  },
  {
   "cell_type": "code",
   "execution_count": 16,
   "id": "2c37714e",
   "metadata": {},
   "outputs": [
    {
     "name": "stdout",
     "output_type": "stream",
     "text": [
      "you will be a part of A1\n"
     ]
    }
   ],
   "source": [
    "marks=70\n",
    "if marks >=80:\n",
    "    print('you will be a part of A0 ')\n",
    "elif marks>=60 and marks<80:\n",
    "    print('you will be a part of A1')\n",
    "elif marks<60 and marks>40:\n",
    "    print('you will be a part of A2')\n",
    "else:\n",
    "    print('you will be a part of A3')"
   ]
  },
  {
   "cell_type": "code",
   "execution_count": 17,
   "id": "19790ffe",
   "metadata": {},
   "outputs": [
    {
     "name": "stdout",
     "output_type": "stream",
     "text": [
      "you will be a part of A2\n"
     ]
    }
   ],
   "source": [
    "marks=50\n",
    "if marks >=80:\n",
    "    print('you will be a part of A0 ')\n",
    "elif marks>=60 and marks<80:\n",
    "    print('you will be a part of A1')\n",
    "elif marks<60 and marks>40:\n",
    "    print('you will be a part of A2')\n",
    "else:\n",
    "    print('you will be a part of A3')"
   ]
  },
  {
   "cell_type": "code",
   "execution_count": 18,
   "id": "d4b87f09",
   "metadata": {},
   "outputs": [
    {
     "name": "stdout",
     "output_type": "stream",
     "text": [
      "you will be a part of A3\n"
     ]
    }
   ],
   "source": [
    "marks=12\n",
    "if marks >=80:\n",
    "    print('you will be a part of A0 ')\n",
    "elif marks>=60 and marks<80:\n",
    "    print('you will be a part of A1')\n",
    "elif marks<60 and marks>40:\n",
    "    print('you will be a part of A2')\n",
    "else:\n",
    "    print('you will be a part of A3')"
   ]
  },
  {
   "cell_type": "code",
   "execution_count": 19,
   "id": "56960031",
   "metadata": {},
   "outputs": [
    {
     "name": "stdout",
     "output_type": "stream",
     "text": [
      "96\n",
      "you will be a part of A0 \n"
     ]
    }
   ],
   "source": [
    "marks=int(input())\n",
    "if marks >=80:\n",
    "    print('you will be a part of A0 ')\n",
    "elif marks>=60 and marks<80:\n",
    "    print('you will be a part of A1')\n",
    "elif marks<60 and marks>40:\n",
    "    print('you will be a part of A2')\n",
    "else:\n",
    "    print('you will be a part of A3')"
   ]
  },
  {
   "cell_type": "code",
   "execution_count": 20,
   "id": "8127ea6b",
   "metadata": {},
   "outputs": [
    {
     "name": "stdout",
     "output_type": "stream",
     "text": [
      "50\n",
      "you will be a part of A2\n"
     ]
    }
   ],
   "source": [
    "marks=int(input())\n",
    "if marks >=80:\n",
    "    print('you will be a part of A0 ')\n",
    "elif marks>=60 and marks<80:\n",
    "    print('you will be a part of A1')\n",
    "elif marks<60 and marks>40:\n",
    "    print('you will be a part of A2')\n",
    "else:\n",
    "    print('you will be a part of A3')"
   ]
  },
  {
   "cell_type": "code",
   "execution_count": 21,
   "id": "06c29b1b",
   "metadata": {},
   "outputs": [
    {
     "name": "stdout",
     "output_type": "stream",
     "text": [
      "10\n",
      "you will be a part of A3\n"
     ]
    }
   ],
   "source": [
    "marks=int(input())\n",
    "if marks >=80:\n",
    "    print('you will be a part of A0 ')\n",
    "elif marks>=60 and marks<80:\n",
    "    print('you will be a part of A1')\n",
    "elif marks<60 and marks>40:\n",
    "    print('you will be a part of A2')\n",
    "else:\n",
    "    print('you will be a part of A3')"
   ]
  },
  {
   "cell_type": "code",
   "execution_count": null,
   "id": "ac3dd61e",
   "metadata": {},
   "outputs": [],
   "source": [
    "price=int(input())\n",
    "if price>1000:\n",
    "    print('i will purchase')\n",
    "else:\n",
    "    print('i am not intrested in this product')"
   ]
  },
  {
   "cell_type": "code",
   "execution_count": null,
   "id": "65ff28bb",
   "metadata": {},
   "outputs": [],
   "source": []
  }
 ],
 "metadata": {
  "kernelspec": {
   "display_name": "Python 3 (ipykernel)",
   "language": "python",
   "name": "python3"
  },
  "language_info": {
   "codemirror_mode": {
    "name": "ipython",
    "version": 3
   },
   "file_extension": ".py",
   "mimetype": "text/x-python",
   "name": "python",
   "nbconvert_exporter": "python",
   "pygments_lexer": "ipython3",
   "version": "3.10.9"
  }
 },
 "nbformat": 4,
 "nbformat_minor": 5
}
